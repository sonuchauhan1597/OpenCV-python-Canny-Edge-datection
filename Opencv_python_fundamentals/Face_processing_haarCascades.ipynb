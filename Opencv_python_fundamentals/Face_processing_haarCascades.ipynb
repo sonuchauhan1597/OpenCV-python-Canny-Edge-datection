{
 "cells": [
  {
   "cell_type": "markdown",
   "metadata": {},
   "source": [
    "FACE PROCESSING USING HAARCASCADES\n",
    "\n",
    "\n",
    "Please read short and important document from OpenCV website\n",
    "https://docs.opencv.org/3.3.0/d7/d8b/tutorial_py_face_detection.html"
   ]
  },
  {
   "cell_type": "code",
   "execution_count": 1,
   "metadata": {},
   "outputs": [],
   "source": [
    "import numpy as np\n",
    "import cv2"
   ]
  },
  {
   "cell_type": "markdown",
   "metadata": {},
   "source": [
    "You can find haarcascade files in local (C:\\your_opencv_folder\\opencv\\sources\\data\\haarcascades)"
   ]
  },
  {
   "cell_type": "code",
   "execution_count": 2,
   "metadata": {},
   "outputs": [],
   "source": [
    "#haarcascade file paths\n",
    "face_cascade = cv2.CascadeClassifier('haarcascades/haarcascade_frontalface_default.xml')\n",
    "eye_cascade = cv2.CascadeClassifier('haarcascades/haarcascade_eye.xml')\n",
    "smile_cascade = cv2.CascadeClassifier('haarcascades/haarcascade_smile.xml')"
   ]
  },
  {
   "cell_type": "code",
   "execution_count": 3,
   "metadata": {},
   "outputs": [],
   "source": [
    "#FACE & EYE DETECTION FROM WEBCAM\n",
    "cap=cv2.VideoCapture(0)# Capturing video from the camera\n",
    "# Step 3: Displaying it to the user\n",
    "while(cap.isOpened()):\n",
    "    ret, frame=cap.read()\n",
    "    #Step 4: Perform Color Inversion on the frames\n",
    "    gray=cv2.cvtColor(frame,cv2.COLOR_BGR2RGB)#This will convert BGR to RGB\n",
    "    \n",
    "    faces = face_cascade.detectMultiScale(gray, 1.3, 5)\n",
    "    for (x,y,w,h) in faces:\n",
    "        cv2.rectangle(frame,(x,y),(x+w,y+h),(255,0,0),2)\n",
    "        roi_gray = gray[y:y+h, x:x+w]\n",
    "        roi_color = frame[y:y+h, x:x+w]\n",
    "        eyes = eye_cascade.detectMultiScale(roi_gray)\n",
    "        for (ex,ey,ew,eh) in eyes:\n",
    "            cv2.rectangle(roi_color,(ex,ey),(ex+ew,ey+eh),(0,255,0),2)\n",
    "    #prevent GUI crash\n",
    "    cv2.startWindowThread()\n",
    "    #Step 5:- Displaying it to the user\n",
    "    cv2.imshow(\"Face and Eye detection\",frame)\n",
    "    #Step 6: Checking for user's interaction  with keyboard\n",
    "    if cv2.waitKey(25) & 0xFF==ord('a'):#Exit whenever user press the a key on the keyboard\n",
    "        break\n",
    "#Step 7: Releasing everything after the job is done\n",
    "cap.release()\n",
    "cv2.destroyAllWindows()"
   ]
  },
  {
   "cell_type": "code",
   "execution_count": 3,
   "metadata": {},
   "outputs": [],
   "source": [
    "#SMILE DETECTION FROM WEBCAM\n",
    "cap2=cv2.VideoCapture(0)# Capturing video from the camera\n",
    "# Step 3: Displaying it to the user\n",
    "while(cap2.isOpened()):\n",
    "    ret2, frame2=cap2.read()\n",
    "    #Step 4: Perform Color Inversion on the frames\n",
    "    gray2=cv2.cvtColor(frame2,cv2.COLOR_BGR2RGB)#This will convert BGR to RGB\n",
    "    \n",
    "    faces = face_cascade.detectMultiScale(gray2, 1.3, 5)\n",
    "    for (x,y,w,h) in faces:\n",
    "        #cv2.rectangle(frame,(x,y),(x+w,y+h),(255,0,0),2)\n",
    "        roi_gray = gray2[y:y+h, x:x+w]\n",
    "        roi_color = frame2[y:y+h, x:x+w]\n",
    "        smiles = smile_cascade.detectMultiScale(roi_gray,1.7,22,minSize=(25,25))\n",
    "        for (sx,sy,sw,sh) in smiles:\n",
    "            cv2.rectangle(roi_color,(sx,sy),(sx+sw,sy+sh),(0,0,255),2)\n",
    "    #prevent GUI crash\n",
    "    cv2.startWindowThread()\n",
    "    #Step 5:- Displaying it to the user\n",
    "    cv2.imshow(\"Smile Detection\",frame2)\n",
    "    #Step 6: Checking for user's interaction  with keyboard\n",
    "    if cv2.waitKey(25) & 0xFF==ord('a'):#Exit whenever user press the a key on the keyboard\n",
    "        break\n",
    "#Step 7: Releasing everything after the job is done\n",
    "cap2.release()\n",
    "cv2.destroyAllWindows()"
   ]
  }
 ],
 "metadata": {
  "anaconda-cloud": {},
  "kernelspec": {
   "display_name": "Python [default]",
   "language": "python",
   "name": "python3"
  },
  "language_info": {
   "codemirror_mode": {
    "name": "ipython",
    "version": 3
   },
   "file_extension": ".py",
   "mimetype": "text/x-python",
   "name": "python",
   "nbconvert_exporter": "python",
   "pygments_lexer": "ipython3",
   "version": "3.5.4"
  }
 },
 "nbformat": 4,
 "nbformat_minor": 2
}
