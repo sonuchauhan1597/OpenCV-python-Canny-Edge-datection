{
 "cells": [
  {
   "cell_type": "markdown",
   "metadata": {},
   "source": [
    "Thresholding is the simplest method of image segmentation.\n",
    "More details please read;\n",
    "http://homes.di.unimi.it/ferrari/ImgProc2011_12/EI2011_12_16_segmentation_double.pdf"
   ]
  },
  {
   "cell_type": "code",
   "execution_count": 1,
   "metadata": {},
   "outputs": [],
   "source": [
    "import cv2\n",
    "import numpy as np"
   ]
  },
  {
   "cell_type": "code",
   "execution_count": 2,
   "metadata": {},
   "outputs": [],
   "source": [
    "#only for TrackBar process\n",
    "def nothing(x):\n",
    "    pass"
   ]
  },
  {
   "cell_type": "code",
   "execution_count": 3,
   "metadata": {},
   "outputs": [],
   "source": [
    "image_org = cv2.imread('data/logo.jpg')\n",
    "image = cv2.cvtColor(image_org,cv2.COLOR_RGB2GRAY)"
   ]
  },
  {
   "cell_type": "code",
   "execution_count": 4,
   "metadata": {},
   "outputs": [],
   "source": [
    "maxval = 255\n",
    "thresh=0\n",
    "type_thresh = 2\n",
    "cv2.namedWindow(\"Adjust\",cv2.WINDOW_AUTOSIZE); #Threshold settings window\n",
    "cv2.createTrackbar(\"Thresh\", \"Adjust\", thresh, 200, nothing);\n",
    "cv2.createTrackbar(\"Max\", \"Adjust\", maxval, 255, nothing);\n",
    "\n",
    "#Threshold methods correspond integer numbers in OpenCV Library,(binary threshold,otsu threshold etc)\n",
    "#And threshold methods summable with each other like; cv2.BINARY_THRESH + cv2.OTSU_THRESH or 1 + 4\n",
    "cv2.createTrackbar(\"Type\", \"Adjust\", type_thresh, 4, nothing); \n",
    "\n",
    "Threshold = np.zeros(image.shape, np.uint8)\n",
    "\n",
    "# Infinite loop until we hit the escape key on keyboard\n",
    "while 1:\n",
    "    thresh = cv2.getTrackbarPos('Thresh', 'Adjust')\n",
    "    maxval = cv2.getTrackbarPos('Max', 'Adjust')\n",
    "    type_thresh = cv2.getTrackbarPos('Type', 'Adjust')\n",
    "    retval,Threshold = cv2.threshold(image,thresh,maxval,type_thresh)\n",
    "    # display images\n",
    "    cv2.imshow('Adjust', Threshold)\n",
    "    cv2.imshow('Original', image_org)\n",
    "    k = cv2.waitKey(1) & 0xFF\n",
    "    if k == 27:   # hit escape to quit\n",
    "        break\n",
    "        \n",
    "cv2.destroyAllWindows()        "
   ]
  },
  {
   "cell_type": "markdown",
   "metadata": {},
   "source": [
    "More info about thresholding and OTSU Method (widely used method as adaptive thresholding) please read,\n",
    "\n",
    "http://www.bogotobogo.com/python/OpenCV_Python/python_opencv3_Image_Global_Thresholding_Adaptive_Thresholding_Otsus_Binarization_Segmentations.php\n",
    "\n",
    "https://docs.opencv.org/2.4/modules/imgproc/doc/miscellaneous_transformations.html?highlight=threshold\n",
    "\n",
    "https://docs.opencv.org/2.4/doc/tutorials/imgproc/threshold/threshold.html\n",
    "\n",
    "https://www.learnopencv.com/opencv-threshold-python-cpp/\n",
    "\n",
    "https://docs.opencv.org/3.3.1/d7/d4d/tutorial_py_thresholding.html"
   ]
  },
  {
   "cell_type": "code",
   "execution_count": null,
   "metadata": {},
   "outputs": [],
   "source": []
  }
 ],
 "metadata": {
  "anaconda-cloud": {},
  "kernelspec": {
   "display_name": "Python [default]",
   "language": "python",
   "name": "python3"
  },
  "language_info": {
   "codemirror_mode": {
    "name": "ipython",
    "version": 3
   },
   "file_extension": ".py",
   "mimetype": "text/x-python",
   "name": "python",
   "nbconvert_exporter": "python",
   "pygments_lexer": "ipython3",
   "version": "3.5.4"
  }
 },
 "nbformat": 4,
 "nbformat_minor": 2
}
