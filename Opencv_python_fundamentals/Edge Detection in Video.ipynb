{
 "cells": [
  {
   "cell_type": "markdown",
   "metadata": {},
   "source": [
    "# Perform Edge Detection Over a exeisting video "
   ]
  },
  {
   "cell_type": "code",
   "execution_count": 9,
   "metadata": {},
   "outputs": [],
   "source": [
    "import cv2\n",
    "\n",
    "cap = cv2.VideoCapture(\"IMTEST/DATA/testvid.mp4\")\n",
    "fourcc = cv2.VideoWriter_fourcc(*'H264')\n",
    "out = cv2.VideoWriter(\"IMTEST/out.mp4\",fourcc,20.0,(int(cap.get(3)),int(cap.get(4))),False)\n",
    "while(cap.isOpened()):\n",
    "    ret, frame = cap.read()   \n",
    "    if ret == True:\n",
    "        gray_edge = cv2.cvtColor(frame, cv2.IMREAD_GRAYSCALE)\n",
    "        edged_frame = cv2.Canny(frame,100,100)\n",
    "        out.write(edged_frame)\n",
    "        cv2.imshow('Edges',edged_frame)\n",
    "        k= cv2.waitKey(5)&0xFF\n",
    "        if k==27:\n",
    "            break\n",
    "    else:\n",
    "        break\n",
    "cap.release()\n",
    "out.release()\n",
    "cv2.destroyAllWindows()"
   ]
  },
  {
   "cell_type": "markdown",
   "metadata": {},
   "source": [
    "# Perform Edge Detection the source for video is webcam "
   ]
  },
  {
   "cell_type": "code",
   "execution_count": 3,
   "metadata": {},
   "outputs": [],
   "source": [
    "import cv2\n",
    "cap = cv2.VideoCapture(0)\n",
    "while(1):\n",
    "    ret, frame = cap.read()\n",
    "    gray_edged = cv2.cvtColor(frame, cv2.IMREAD_GRAYSCALE)\n",
    "    edged_frame = cv2.Canny(frame,100,100)\n",
    "    cv2.imshow('Edges',edged_frame)\n",
    "    k=cv2.waitKey(5)&0xFF\n",
    "    if k==27:\n",
    "        break\n",
    "cap.release()\n",
    "cv2.destroyAllWindows()"
   ]
  },
  {
   "cell_type": "code",
   "execution_count": null,
   "metadata": {},
   "outputs": [],
   "source": []
  }
 ],
 "metadata": {
  "anaconda-cloud": {},
  "kernelspec": {
   "display_name": "Python [conda root]",
   "language": "python",
   "name": "conda-root-py"
  },
  "language_info": {
   "codemirror_mode": {
    "name": "ipython",
    "version": 3
   },
   "file_extension": ".py",
   "mimetype": "text/x-python",
   "name": "python",
   "nbconvert_exporter": "python",
   "pygments_lexer": "ipython3",
   "version": "3.5.4"
  }
 },
 "nbformat": 4,
 "nbformat_minor": 2
}
