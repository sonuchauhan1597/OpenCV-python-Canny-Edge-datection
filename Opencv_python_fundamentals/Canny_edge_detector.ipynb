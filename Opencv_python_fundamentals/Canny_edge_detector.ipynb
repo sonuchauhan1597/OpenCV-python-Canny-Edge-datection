{
 "cells": [
  {
   "cell_type": "markdown",
   "metadata": {},
   "source": [
    "Canny Edge Detection\n",
    "\n",
    "please read short document ,more info, https://docs.opencv.org/3.3.1/da/d22/tutorial_py_canny.html"
   ]
  },
  {
   "cell_type": "code",
   "execution_count": 1,
   "metadata": {},
   "outputs": [],
   "source": [
    "import cv2"
   ]
  },
  {
   "cell_type": "code",
   "execution_count": 2,
   "metadata": {},
   "outputs": [],
   "source": [
    "#only for TrackBar process\n",
    "def nothing(x):\n",
    "    pass"
   ]
  },
  {
   "cell_type": "code",
   "execution_count": 3,
   "metadata": {},
   "outputs": [],
   "source": [
    "image = cv2.imread('data/horse.jpg')\n"
   ]
  },
  {
   "cell_type": "code",
   "execution_count": 4,
   "metadata": {},
   "outputs": [],
   "source": [
    "switch = '0 : OFF \\n1 : ON'\n",
    "cv2.namedWindow('canny')\n",
    "cv2.createTrackbar(switch, 'canny', 0, 1, nothing)\n",
    "\n",
    "# add lower and upper threshold slidebars to \"canny\"\n",
    "cv2.createTrackbar('lower', 'canny', 0, 255, nothing)\n",
    "cv2.createTrackbar('upper', 'canny', 0, 255, nothing)\n",
    "\n",
    "# Infinite loop until we hit the escape key on keyboard\n",
    "while(1):\n",
    "\n",
    "    # get current positions of four trackbars\n",
    "    lower = cv2.getTrackbarPos('lower', 'canny')\n",
    "    upper = cv2.getTrackbarPos('upper', 'canny')\n",
    "    s = cv2.getTrackbarPos(switch, 'canny')\n",
    "\n",
    "    if s == 0:\n",
    "        edges = image\n",
    "    else:\n",
    "        edges = cv2.Canny(image, lower, upper)\n",
    "\n",
    "    # display images\n",
    "    cv2.imshow('canny', edges)\n",
    "    k = cv2.waitKey(1) & 0xFF\n",
    "    if k == 27:   # hit escape to quit\n",
    "        break\n",
    "cv2.destroyAllWindows()\n"
   ]
  },
  {
   "cell_type": "code",
   "execution_count": null,
   "metadata": {},
   "outputs": [],
   "source": []
  }
 ],
 "metadata": {
  "anaconda-cloud": {},
  "kernelspec": {
   "display_name": "Python [default]",
   "language": "python",
   "name": "python3"
  },
  "language_info": {
   "codemirror_mode": {
    "name": "ipython",
    "version": 3
   },
   "file_extension": ".py",
   "mimetype": "text/x-python",
   "name": "python",
   "nbconvert_exporter": "python",
   "pygments_lexer": "ipython3",
   "version": "3.5.4"
  }
 },
 "nbformat": 4,
 "nbformat_minor": 2
}
